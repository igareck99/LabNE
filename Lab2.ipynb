{
 "cells": [
  {
   "cell_type": "code",
   "execution_count": 5,
   "metadata": {},
   "outputs": [],
   "source": [
    "import numpy as np"
   ]
  },
  {
   "cell_type": "markdown",
   "metadata": {},
   "source": [
    "## Реализация функции \"ИЛИ\" (англ. \"OR\") с использованием нейрона Мак-Каллока-Питтса "
   ]
  },
  {
   "cell_type": "code",
   "execution_count": 6,
   "metadata": {},
   "outputs": [
    {
     "name": "stdout",
     "output_type": "stream",
     "text": [
      "Введите веса\n",
      "Вес w1 =1\n",
      "Вес w2 =1\n",
      "Введите величину порога\n",
      "Порог =1\n",
      "Значение на выходе нейрона\n",
      "[1 1 1 0]\n",
      "Нейрон МакКаллока-Питса для функции \"ИЛИ\" (англ. \"OR\")\n",
      "Веса нейрона\n",
      "1.0\n",
      "1.0\n",
      "Пороговое значение\n",
      "1.0\n"
     ]
    }
   ],
   "source": [
    "# Задание весов и значения порога\n",
    "print('Введите веса')\n",
    "w1=float(input('Вес w1 ='))\n",
    "w2=float(input('Вес w2 ='))\n",
    "print('Введите величину порога')\n",
    "theta=float(input('Порог ='))\n",
    "y=np.array([0, 0, 0, 0])\n",
    "x1=np.array([1, 1, 0, 0])\n",
    "x2=np.array([1, 0, 1, 0])\n",
    "z=np.array([1, 1, 1, 0])\n",
    "con=1\n",
    "while con != 0:\n",
    "    zin=x1*w1+x2*w2\n",
    "    for i in range(0,4):\n",
    "        if zin[i]>=theta:\n",
    "            y[i]=1\n",
    "        else:\n",
    "            y[i]=0\n",
    "    print('Значение на выходе нейрона')\n",
    "    print(y)\n",
    "    if all(y==z):\n",
    "        con=0\n",
    "    else:\n",
    "        print('Нейрон не обучен. Введите другие значения весовых коэффициентов и порога')\n",
    "        w1=float(input('Вес w1 ='))\n",
    "        w2=float(input('Вес w2 ='))\n",
    "        theta=float(input('Порог ='))\n",
    "print('Нейрон МакКаллока-Питса для функции \"ИЛИ\" (англ. \"OR\")')\n",
    "print('Веса нейрона')\n",
    "print(w1)\n",
    "print(w2)\n",
    "print('Пороговое значение')\n",
    "print(theta)"
   ]
  },
  {
   "cell_type": "markdown",
   "metadata": {},
   "source": [
    "## Реализация функции \"И\" (англ. \"AND\") с использованием нейрона Мак-Каллока-Питтса "
   ]
  },
  {
   "cell_type": "code",
   "execution_count": 7,
   "metadata": {},
   "outputs": [
    {
     "name": "stdout",
     "output_type": "stream",
     "text": [
      "Введите веса\n",
      "Вес w1 =1\n",
      "Вес w2 =1\n",
      "Введите величину порога\n",
      "Порог =0.5\n",
      "Значение на выходе нейрона\n",
      "[0 0 0 1]\n",
      "Нейрон МакКаллока-Питса для функции \"И\" (англ. \"AND\")\n",
      "Веса нейрона\n",
      "1.0\n",
      "1.0\n",
      "Пороговое значение\n",
      "0.5\n"
     ]
    }
   ],
   "source": [
    "# Задание весов и значения порога\n",
    "print('Введите веса')\n",
    "w1=float(input('Вес w1 ='))\n",
    "w2=float(input('Вес w2 ='))\n",
    "print('Введите величину порога')\n",
    "theta=float(input('Порог ='))\n",
    "y=np.array([0, 0, 0, 0])\n",
    "x1=np.array([1, 1, 0, 0])\n",
    "x2=np.array([1, 0, 1, 0])\n",
    "z=np.array([0, 0, 0, 1])\n",
    "con=1\n",
    "while con != 0:\n",
    "    zin=x1*w1+x2*w2\n",
    "    for i in range(0,4):\n",
    "        if zin[i]>=theta:\n",
    "            y[i]=0\n",
    "        else:\n",
    "            y[i]=1\n",
    "    print('Значение на выходе нейрона')\n",
    "    print(y)\n",
    "    if all(y==z):\n",
    "        con=0\n",
    "    else:\n",
    "        print('Нейрон не обучен. Введите другие значения весовых коэффициентов и порога')\n",
    "        w1=float(input('Вес w1 ='))\n",
    "        w2=float(input('Вес w2 ='))\n",
    "        theta=float(input('Порог ='))\n",
    "print('Нейрон МакКаллока-Питса для функции \"И\" (англ. \"AND\")')\n",
    "print('Веса нейрона')\n",
    "print(w1)\n",
    "print(w2)\n",
    "print('Пороговое значение')\n",
    "print(theta)"
   ]
  },
  {
   "cell_type": "markdown",
   "metadata": {},
   "source": [
    "## Реализация функции \"И\" (англ. \"AND\") с использованием нейрона Мак-Каллока-Питтса в биполярной логике"
   ]
  },
  {
   "cell_type": "code",
   "execution_count": 8,
   "metadata": {},
   "outputs": [
    {
     "name": "stdout",
     "output_type": "stream",
     "text": [
      "Введите веса\n",
      "Вес w1 =1\n",
      "Вес w2 =1\n",
      "Введите величину порога\n",
      "Порог =-0.5\n",
      "Значение на выходе нейрона\n",
      "[-1 -1 -1  1]\n",
      "Нейрон МакКаллока-Питса для функции \"И\" (англ. \"AND\")\n",
      "Веса нейрона\n",
      "1.0\n",
      "1.0\n",
      "Пороговое значение\n",
      "-0.5\n"
     ]
    }
   ],
   "source": [
    "# Задание весов и значения порога\n",
    "print('Введите веса')\n",
    "w1=float(input('Вес w1 ='))\n",
    "w2=float(input('Вес w2 ='))\n",
    "print('Введите величину порога')\n",
    "theta=float(input('Порог ='))\n",
    "y=np.array([0, 0, 0, 0])\n",
    "x1=np.array([1, 1, -1, -1])\n",
    "x2=np.array([1, -1, 1, -1])\n",
    "z=np.array([-1, -1, -1, 1])\n",
    "con=1\n",
    "while con != 0:\n",
    "    zin=x1*w1+x2*w2\n",
    "    for i in range(0,4):\n",
    "        if zin[i]>=theta:\n",
    "            y[i]=-1\n",
    "        else:\n",
    "            y[i]=1\n",
    "    print('Значение на выходе нейрона')\n",
    "    print(y)\n",
    "    if all(y==z):\n",
    "        con=0\n",
    "    else:\n",
    "        print('Нейрон не обучен. Введите другие значения весовых коэффициентов и порога')\n",
    "        w1=float(input('Вес w1 ='))\n",
    "        w2=float(input('Вес w2 ='))\n",
    "        theta=float(input('Порог ='))\n",
    "print('Нейрон МакКаллока-Питса для функции \"И\" (англ. \"AND\")');\n",
    "print('Веса нейрона')\n",
    "print(w1)\n",
    "print(w2)\n",
    "print('Пороговое значение')\n",
    "print(theta)"
   ]
  },
  {
   "cell_type": "markdown",
   "metadata": {},
   "source": [
    "# Реализация функции \"Исключающее ИЛИ\" (англ. \"XOR\") с помощью 2-х слойного перцептрона"
   ]
  },
  {
   "cell_type": "code",
   "execution_count": 4,
   "metadata": {},
   "outputs": [
    {
     "name": "stdout",
     "output_type": "stream",
     "text": [
      "Введите веса\n",
      "Вес w_11 =2\n",
      "Вес w_12 =-1.5\n",
      "Вес w_21 =-1.5\n",
      "Вес w_22 =2\n",
      "Вес w11 =2\n",
      "Вес w12 =2\n",
      "Введите величину порога\n",
      "Порог =1\n",
      "Значение на выходе нейрона\n",
      "[0 1 1 0]\n",
      "Нейрон МакКаллока-Питса для функции \"Исключащее-ИЛИ\" (англ. \"XOR\")\n",
      "Веса первого слоя\n",
      "[2.0, -1.5, -1.5, 2.0]\n",
      "Веса второго слоя\n",
      "[2.0, 2.0]\n",
      "Пороговое значение\n",
      "1.0\n"
     ]
    }
   ],
   "source": [
    "# Задание весов и значения порога\n",
    "print('Введите веса')\n",
    "w_11=float(input('Вес w_11 ='))\n",
    "w_12=float(input('Вес w_12 ='))\n",
    "w_21=float(input('Вес w_21 ='))\n",
    "w_22=float(input('Вес w_22 ='))\n",
    "w11=float(input('Вес w11 ='))\n",
    "w12=float(input('Вес w12 ='))\n",
    "\n",
    "print('Введите величину порога')\n",
    "theta=float(input('Порог ='))\n",
    "y=np.array([0, 0, 0, 0])\n",
    "y1=np.array([0, 0, 0, 0])\n",
    "y2=np.array([0, 0, 0, 0])\n",
    "x1=np.array([1, 1, 0, 0])\n",
    "x2=np.array([1, 0, 1, 0])\n",
    "z=np.array([0, 1, 1, 0])\n",
    "con=1\n",
    "while con != 0:\n",
    "    zin1=x1*w_11+x2*w_21\n",
    "    zin2=x1*w_12+x2*w_22\n",
    "    for i in range(0,4):\n",
    "        if zin1[i]>=theta:\n",
    "            y1[i]=1\n",
    "        else:\n",
    "            y1[i]=0\n",
    "        if zin2[i]>=theta:\n",
    "            y2[i]=1\n",
    "        else:\n",
    "            y2[i]=0\n",
    "    zin = y1*w11 + y2*w12\n",
    "    for i in range(0,4):\n",
    "        if zin[i]>=theta:\n",
    "            y[i]=1\n",
    "        else:\n",
    "            y[i]=0\n",
    "    print('Значение на выходе нейрона')\n",
    "    print(y)\n",
    "    if all(y==z):\n",
    "        con=0\n",
    "    else:\n",
    "        print('Нейрон не обучен. Введите другие значения весовых коэффициентов и порога')\n",
    "        w_11=float(input('Вес w_11 ='))\n",
    "        w_12=float(input('Вес w_12 ='))\n",
    "        w_21=float(input('Вес w_21 ='))\n",
    "        w_22=float(input('Вес w_22 ='))\n",
    "        w11=float(input('Вес w11 ='))\n",
    "        w12=float(input('Вес w12 ='))\n",
    "print('Нейрон МакКаллока-Питса для функции \"Исключащее-ИЛИ\" (англ. \"XOR\")');\n",
    "print('Веса первого слоя');\n",
    "print( [w_11, \n",
    "        w_12,\n",
    "        w_21,\n",
    "        w_22] )\n",
    "print('Веса второго слоя');\n",
    "print( [w11, \n",
    "        w12] )\n",
    "print('Пороговое значение')\n",
    "print(theta)"
   ]
  }
 ],
 "metadata": {
  "kernelspec": {
   "display_name": "Python 3",
   "language": "python",
   "name": "python3"
  }
 },
 "nbformat": 4,
 "nbformat_minor": 2
}
